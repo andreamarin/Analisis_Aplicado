{
 "cells": [
  {
   "cell_type": "code",
   "execution_count": 1,
   "metadata": {},
   "outputs": [],
   "source": [
    "import numpy as np\n",
    "import scipy.linalg as la\n",
    "import scipy.sparse as sparse\n",
    "import gradientDescent as gd"
   ]
  },
  {
   "cell_type": "code",
   "execution_count": 2,
   "metadata": {},
   "outputs": [],
   "source": [
    "import imp"
   ]
  },
  {
   "cell_type": "code",
   "execution_count": 23,
   "metadata": {},
   "outputs": [
    {
     "data": {
      "text/plain": [
       "<module 'gradientDescent' from '/Users/andreamarin/Desktop/ITAM/9semestre/Analisis_Aplicado/Laboratorios/gradientDescent.py'>"
      ]
     },
     "execution_count": 23,
     "metadata": {},
     "output_type": "execute_result"
    }
   ],
   "source": [
    "imp.reload(gd)"
   ]
  },
  {
   "cell_type": "markdown",
   "metadata": {},
   "source": [
    "Interpolación cuadrática (quiero que I(x) = phi(x))\n",
    "\n",
    "I(x) = a + bx + c(x^2)\n",
    "\n",
    "    I(0) = phi(0) --> a = phi(0)\n",
    "    I'(0) = phi'(0) --> b = phi'(0)\n",
    "    I(x0) = phi(x0) --> c*x0^2 = phi(x0) -a - b*x0"
   ]
  },
  {
   "cell_type": "code",
   "execution_count": 45,
   "metadata": {},
   "outputs": [],
   "source": [
    "def max_descent_cuad(f, x0, tol=1e-5, max_iter=100, Df = None, Q = None):\n",
    "    '''\n",
    "    Máximo descenso con paso óptimo para funciones cuadráticas\n",
    "    \n",
    "    params:\n",
    "        f - funcion a minimizar\n",
    "        x0 - punto inicial\n",
    "        tol - tolerancia\n",
    "        max_iter - cota superior p/iteraciones\n",
    "        Df (opcional) - gradiente de f\n",
    "        Q (opcional) - hessiano de f\n",
    "        \n",
    "    returns:\n",
    "        xf - aproximación de x*\n",
    "        iter - número de iteraciones usadas\n",
    "    '''\n",
    "    \n",
    "    xf = x0\n",
    "    n = len(x0)\n",
    "    iterations = 0\n",
    "    c_1 = 0.1\n",
    "    \n",
    "    grad_f = gd.grad(f, xf) if Df is None else Df(xf)\n",
    "    hess_f = gd.hess(f, xf) if Q is None else Q(xf)\n",
    "    \n",
    "    \n",
    "    while iterations < max_iter and np.linalg.norm(grad_f, np.inf) > tol:\n",
    "        \n",
    "        #Find descent direction\n",
    "        d = - grad_f / np.linalg.norm(grad_f)\n",
    "        \n",
    "        #Direction coef.\n",
    "        d_t = np.transpose(d)\n",
    "        \n",
    "        alpha = np.dot(-d_t,grad_f)/np.dot(d_t,np.dot(hess_f,d))\n",
    "        alpha = 0.99*alpha\n",
    "        \n",
    "        # assert function\n",
    "        slope = c_1*np.dot(grad_f, d)\n",
    "        assert f(xf + alpha*d) <= f(xf) + alpha*slope, 'No cumple condicion'\n",
    "        \n",
    "        #Next iteration\n",
    "        xf = xf + alpha*d\n",
    "        iterations += 1\n",
    "        \n",
    "        grad_f = gd.grad(f, xf) if Df is None else Df(xf)\n",
    "    \n",
    "    return xf, iterations"
   ]
  },
  {
   "cell_type": "code",
   "execution_count": 41,
   "metadata": {},
   "outputs": [],
   "source": [
    "def max_descent_opt(f, x0, tol = 1e-5, max_iter = 100):\n",
    "    '''\n",
    "    Desciende en la dirección de descenso más grande (para funciones no cuadráticas)\n",
    "    '''\n",
    "    \n",
    "    xf = x0\n",
    "    n = len(x0)\n",
    "    iterations = 0\n",
    "    \n",
    "    c_1 = 0.1\n",
    "    c_2 = 0.9\n",
    "    \n",
    "    grad_f = gd.grad(f, xf)\n",
    "    \n",
    "    \n",
    "    while iterations < max_iter and np.linalg.norm(grad_f, np.inf) > tol:\n",
    "        #Find descent direction\n",
    "        d = - grad_f / np.linalg.norm(grad_f)\n",
    "        \n",
    "        # Interpolation parameters\n",
    "        a = f(xf)\n",
    "        b = np.dot(grad_f,d)\n",
    "        alpha0 = gd.bissec(grad_f, d, c_1, f, xf)\n",
    "        \n",
    "        #Direction coef.\n",
    "        alpha = (-0.5*b*(alpha0**2))/(f(xf+alpha0*d) - a - b*alpha0)\n",
    "        alpha = 0.99*alpha\n",
    "        \n",
    "        # assert function (W1)\n",
    "        #assert f(xf + alpha*d) <= f(xf) + alpha*c_2*b, 'No cumple condicion W2'\n",
    "        \n",
    "        #Next iteration\n",
    "        xf = xf + alpha*d\n",
    "        iterations += 1\n",
    "        \n",
    "        grad_f = gd.grad(f, xf)\n",
    "        \n",
    "        # assert function (W2)\n",
    "        #assert np.dot(grad_f,d) > c2*b, 'No cumple condicion 2'\n",
    "    \n",
    "    return xf, iterations"
   ]
  },
  {
   "cell_type": "markdown",
   "metadata": {},
   "source": [
    "### Pruebas"
   ]
  },
  {
   "cell_type": "code",
   "execution_count": 14,
   "metadata": {},
   "outputs": [],
   "source": [
    "max_iter = 2000"
   ]
  },
  {
   "cell_type": "markdown",
   "metadata": {},
   "source": [
    "Pascal function"
   ]
  },
  {
   "cell_type": "code",
   "execution_count": 28,
   "metadata": {},
   "outputs": [],
   "source": [
    "A = la.pascal(4)\n",
    "b = -np.ones(4)\n",
    "\n",
    "x0 = np.array([4,4,4,4])\n",
    "\n",
    "f = lambda x : 1/2 * np.dot(x, np.dot(A, x)) + np.dot(b, x) + 1"
   ]
  },
  {
   "cell_type": "code",
   "execution_count": 29,
   "metadata": {},
   "outputs": [
    {
     "data": {
      "text/plain": [
       "(array([ 9.99914450e-01,  1.97823741e-04, -1.63813656e-04,  4.71048635e-05]),\n",
       " 86)"
      ]
     },
     "execution_count": 29,
     "metadata": {},
     "output_type": "execute_result"
    }
   ],
   "source": [
    "max_descent_cuad(f, x0, max_iter = max_iter)"
   ]
  },
  {
   "cell_type": "code",
   "execution_count": 16,
   "metadata": {},
   "outputs": [
    {
     "data": {
      "text/plain": [
       "(array([ 9.99915062e-01,  1.96183061e-04, -1.62695707e-04,  4.63103130e-05]),\n",
       " 87)"
      ]
     },
     "execution_count": 16,
     "metadata": {},
     "output_type": "execute_result"
    }
   ],
   "source": [
    "Df = lambda x: np.dot(A, x) + b\n",
    "Q = lambda x: A\n",
    "\n",
    "max_descent_cuad(f, x0, max_iter = max_iter, Df = Df, Q = Q)"
   ]
  },
  {
   "cell_type": "code",
   "execution_count": 37,
   "metadata": {},
   "outputs": [
    {
     "data": {
      "text/plain": [
       "(array([ 9.99902989e-01,  2.27165057e-04, -1.86929806e-04,  5.27159943e-05]),\n",
       " 1549)"
      ]
     },
     "execution_count": 37,
     "metadata": {},
     "output_type": "execute_result"
    }
   ],
   "source": [
    "max_descent_opt(f, x0, max_iter = max_iter)"
   ]
  },
  {
   "cell_type": "markdown",
   "metadata": {},
   "source": [
    "Rosenbrock"
   ]
  },
  {
   "cell_type": "code",
   "execution_count": 46,
   "metadata": {},
   "outputs": [
    {
     "ename": "AssertionError",
     "evalue": "No cumple condicion",
     "output_type": "error",
     "traceback": [
      "\u001b[0;31m-------\u001b[0m",
      "\u001b[0;31mAssertionError\u001b[0mTraceback (most recent call last)",
      "\u001b[0;32m<ipython-input-46-018bf7441e3f>\u001b[0m in \u001b[0;36m<module>\u001b[0;34m()\u001b[0m\n\u001b[1;32m      2\u001b[0m \u001b[0mx0_r\u001b[0m \u001b[0;34m=\u001b[0m \u001b[0mnp\u001b[0m\u001b[0;34m.\u001b[0m\u001b[0marray\u001b[0m\u001b[0;34m(\u001b[0m\u001b[0;34m[\u001b[0m\u001b[0;36m2\u001b[0m\u001b[0;34m,\u001b[0m \u001b[0;36m3\u001b[0m\u001b[0;34m]\u001b[0m\u001b[0;34m)\u001b[0m\u001b[0;34m\u001b[0m\u001b[0;34m\u001b[0m\u001b[0m\n\u001b[1;32m      3\u001b[0m \u001b[0;34m\u001b[0m\u001b[0m\n\u001b[0;32m----> 4\u001b[0;31m \u001b[0mmax_descent_cuad\u001b[0m\u001b[0;34m(\u001b[0m\u001b[0mrosenbrock\u001b[0m\u001b[0;34m,\u001b[0m \u001b[0mx0_r\u001b[0m\u001b[0;34m,\u001b[0m \u001b[0mmax_iter\u001b[0m \u001b[0;34m=\u001b[0m \u001b[0mmax_iter\u001b[0m\u001b[0;34m)\u001b[0m\u001b[0;34m\u001b[0m\u001b[0;34m\u001b[0m\u001b[0m\n\u001b[0m",
      "\u001b[0;32m<ipython-input-45-fdfb6f58f902>\u001b[0m in \u001b[0;36mmax_descent_cuad\u001b[0;34m(f, x0, tol, max_iter, Df, Q)\u001b[0m\n\u001b[1;32m     38\u001b[0m         \u001b[0;31m# assert function\u001b[0m\u001b[0;34m\u001b[0m\u001b[0;34m\u001b[0m\u001b[0;34m\u001b[0m\u001b[0m\n\u001b[1;32m     39\u001b[0m         \u001b[0mslope\u001b[0m \u001b[0;34m=\u001b[0m \u001b[0mc_1\u001b[0m\u001b[0;34m*\u001b[0m\u001b[0mnp\u001b[0m\u001b[0;34m.\u001b[0m\u001b[0mdot\u001b[0m\u001b[0;34m(\u001b[0m\u001b[0mgrad_f\u001b[0m\u001b[0;34m,\u001b[0m \u001b[0md\u001b[0m\u001b[0;34m)\u001b[0m\u001b[0;34m\u001b[0m\u001b[0;34m\u001b[0m\u001b[0m\n\u001b[0;32m---> 40\u001b[0;31m         \u001b[0;32massert\u001b[0m \u001b[0mf\u001b[0m\u001b[0;34m(\u001b[0m\u001b[0mxf\u001b[0m \u001b[0;34m+\u001b[0m \u001b[0malpha\u001b[0m\u001b[0;34m*\u001b[0m\u001b[0md\u001b[0m\u001b[0;34m)\u001b[0m \u001b[0;34m<=\u001b[0m \u001b[0mf\u001b[0m\u001b[0;34m(\u001b[0m\u001b[0mxf\u001b[0m\u001b[0;34m)\u001b[0m \u001b[0;34m+\u001b[0m \u001b[0malpha\u001b[0m\u001b[0;34m*\u001b[0m\u001b[0mslope\u001b[0m\u001b[0;34m,\u001b[0m \u001b[0;34m'No cumple condicion'\u001b[0m\u001b[0;34m\u001b[0m\u001b[0;34m\u001b[0m\u001b[0m\n\u001b[0m\u001b[1;32m     41\u001b[0m \u001b[0;34m\u001b[0m\u001b[0m\n\u001b[1;32m     42\u001b[0m         \u001b[0;31m#Next iteration\u001b[0m\u001b[0;34m\u001b[0m\u001b[0;34m\u001b[0m\u001b[0;34m\u001b[0m\u001b[0m\n",
      "\u001b[0;31mAssertionError\u001b[0m: No cumple condicion"
     ]
    }
   ],
   "source": [
    "rosenbrock = lambda x : 100*(x[0]**2 - x[1])**2 + (x[0]-1)**2\n",
    "x0_r = np.array([2, 3])\n",
    "\n",
    "max_descent_cuad(rosenbrock, x0_r, max_iter = max_iter)"
   ]
  },
  {
   "cell_type": "code",
   "execution_count": 47,
   "metadata": {},
   "outputs": [
    {
     "data": {
      "text/plain": [
       "(array([1.00000822, 1.00001648]), 471)"
      ]
     },
     "execution_count": 47,
     "metadata": {},
     "output_type": "execute_result"
    }
   ],
   "source": [
    "max_descent_opt(rosenbrock, x0_r, max_iter = max_iter)"
   ]
  },
  {
   "cell_type": "code",
   "execution_count": null,
   "metadata": {},
   "outputs": [],
   "source": []
  }
 ],
 "metadata": {
  "kernelspec": {
   "display_name": "Python 3",
   "language": "python",
   "name": "python3"
  },
  "language_info": {
   "codemirror_mode": {
    "name": "ipython",
    "version": 3
   },
   "file_extension": ".py",
   "mimetype": "text/x-python",
   "name": "python",
   "nbconvert_exporter": "python",
   "pygments_lexer": "ipython3",
   "version": "3.6.8"
  }
 },
 "nbformat": 4,
 "nbformat_minor": 2
}
