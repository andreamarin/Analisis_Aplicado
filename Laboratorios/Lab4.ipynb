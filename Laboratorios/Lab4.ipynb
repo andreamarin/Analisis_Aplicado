{
 "cells": [
  {
   "cell_type": "code",
   "execution_count": 1,
   "metadata": {},
   "outputs": [],
   "source": [
    "import numpy as np\n",
    "import scipy.linalg as la\n",
    "import scipy.sparse as sparse\n",
    "import gradientDescent as gd"
   ]
  },
  {
   "cell_type": "code",
   "execution_count": 5,
   "metadata": {},
   "outputs": [],
   "source": [
    "def cauchy_point(f, x_k, r):\n",
    "    '''\n",
    "    Desciende en la dirección de máximo descenso\n",
    "    '''\n",
    "    \n",
    "    g_k = gd.grad(f, x_k)\n",
    "    B_k = gd.hess(f, x_k)\n",
    "    \n",
    "    valor = np.dot(g_k, B_k * g_k)\n",
    "    \n",
    "    if valor > 0:\n",
    "        alpha_star = la.norm(g_k)^3/r*valor\n",
    "    else:\n",
    "        alpha_star = 1\n",
    "        \n",
    "    p_c = -r/(np.norm(grad_k)*min(a, alpha_star)*grad_k)\n",
    "    \n",
    "    return p_c, g_k, B_k"
   ]
  },
  {
   "cell_type": "code",
   "execution_count": 8,
   "metadata": {},
   "outputs": [],
   "source": [
    "def trust_region(f, x_0, max_iter, r_max, tol = 1e-5):\n",
    "    '''\n",
    "    '''\n",
    "    eta = 0.2 # \\in (0,1/4)\n",
    "    r = r_max\n",
    "    x_k = x_0 \n",
    "    \n",
    "    f_k = f(x_k)\n",
    "    g_k = gd.grad(x_k)\n",
    "    m_k = lambda d: f_k + np.dot(g_k, d) + 0.5 * np.dot(d, B_k * d) # d = p_c\n",
    "    \n",
    "    i = 1\n",
    "    \n",
    "    while i < max_iter and la.norm(g_k) >= tol:\n",
    "        p_c, g_k, B_x = cauchy_point(f, x_k, r)\n",
    "        \n",
    "        quality = (f_k - f(c_k + p_c))/(f_k - m_k(p_c))\n",
    "        \n",
    "        # calidad de mi modelo no refleja la función \n",
    "        if quality < 0.25:\n",
    "            r = 0.25*r\n",
    "        \n",
    "        # estoy en la frontera\n",
    "        elif quality > 0.75 and r - la.norm(p_c) <= 0: \n",
    "            r = min(2*r, r_max)\n",
    "        \n",
    "        if quality > eta:\n",
    "            x_k = x_k + d_k\n",
    "            \n",
    "        f_k = f(x_k)\n",
    "        \n",
    "        i += 1\n",
    "        "
   ]
  },
  {
   "cell_type": "code",
   "execution_count": null,
   "metadata": {},
   "outputs": [],
   "source": []
  }
 ],
 "metadata": {
  "kernelspec": {
   "display_name": "Python 3",
   "language": "python",
   "name": "python3"
  },
  "language_info": {
   "codemirror_mode": {
    "name": "ipython",
    "version": 3
   },
   "file_extension": ".py",
   "mimetype": "text/x-python",
   "name": "python",
   "nbconvert_exporter": "python",
   "pygments_lexer": "ipython3",
   "version": "3.7.4"
  }
 },
 "nbformat": 4,
 "nbformat_minor": 2
}
