{
 "cells": [
  {
   "cell_type": "code",
   "execution_count": 2,
   "metadata": {},
   "outputs": [],
   "source": [
    "import numpy as np\n",
    "import scipy.linalg as la\n",
    "import scipy.sparse as sparse\n",
    "import gradientDescent as gd"
   ]
  },
  {
   "cell_type": "code",
   "execution_count": 122,
   "metadata": {},
   "outputs": [],
   "source": [
    "def descenso_ciclico(x0, A, b, tol = 1e-4, max_iter = 10000):\n",
    "    m = 0\n",
    "    k = 0\n",
    "    \n",
    "    n = len(A)\n",
    "    \n",
    "    r = np.dot(A,x0) - b\n",
    "    x = x0\n",
    "    \n",
    "    while la.norm(r) > tol and (m*n + k) <= max_iter:\n",
    "        if k >= n:\n",
    "            k = 1\n",
    "            m += 1\n",
    "            \n",
    "        alpha = -r[k]/A[k,k]\n",
    "        x[k] = x[k] + alpha\n",
    "        \n",
    "        r = np.dot(A,x) - b \n",
    "        \n",
    "        k += 1\n",
    "        \n",
    "    return x, k+m*n"
   ]
  },
  {
   "cell_type": "code",
   "execution_count": 138,
   "metadata": {},
   "outputs": [],
   "source": [
    "def grad_conjugado(x_0, A, b):\n",
    "    \n",
    "    r_k = np.dot(A,x_0) - b\n",
    "    p_k = -r_k\n",
    "    x_k = x_0\n",
    "    k = 0\n",
    "    \n",
    "    n = len(A)\n",
    "    \n",
    "    zero = np.zeros(n)\n",
    "    \n",
    "    while not la.norm(r_k) == 0:\n",
    "        \n",
    "        #print(k)\n",
    "        \n",
    "        alpha_k = (la.norm(r_k)**2)/(np.dot(np.transpose(p_k), A)*p_k)\n",
    "        alpha_k = alpha_k[0,0]\n",
    "        \n",
    "        x_k = x_k + alpha_k*p_k\n",
    "        \n",
    "        r_ant = r_k\n",
    "        r_k = np.dot(A, x_k) - b\n",
    "        \n",
    "        beta_k = (la.norm(r_k)/la.norm(r_ant))**2\n",
    "\n",
    "        p_k = - r_k + beta_k*p_k\n",
    "        \n",
    "        k += 1\n",
    "        \n",
    "    return x_k, k"
   ]
  },
  {
   "cell_type": "markdown",
   "metadata": {},
   "source": [
    "**Pruebas**"
   ]
  },
  {
   "cell_type": "markdown",
   "metadata": {},
   "source": [
    "Ej. 1"
   ]
  },
  {
   "cell_type": "code",
   "execution_count": 135,
   "metadata": {},
   "outputs": [],
   "source": [
    "n = 100\n",
    "A = np.zeros((n,n))\n",
    "A = A + sparse.diags([1,2,1], offsets = [-1,0,1], shape = (n,n))\n",
    "\n",
    "b = np.ones((n,1))"
   ]
  },
  {
   "cell_type": "code",
   "execution_count": 136,
   "metadata": {},
   "outputs": [],
   "source": [
    "x_0 = 3*np.ones((n,1))"
   ]
  },
  {
   "cell_type": "code",
   "execution_count": 137,
   "metadata": {},
   "outputs": [],
   "source": [
    "x_opt, num_iter = descenso_ciclico(x_0, A, b)"
   ]
  },
  {
   "cell_type": "markdown",
   "metadata": {},
   "source": [
    "Ej. 2"
   ]
  },
  {
   "cell_type": "code",
   "execution_count": 132,
   "metadata": {},
   "outputs": [],
   "source": [
    "n = 2\n",
    "A = np.zeros((n,n))\n",
    "A = A + sparse.diags([1,3], shape = (n,n))\n",
    "\n",
    "b = np.ones((n,1))\n",
    "\n",
    "x_0 = 3*np.ones((n,1))"
   ]
  },
  {
   "cell_type": "code",
   "execution_count": 139,
   "metadata": {},
   "outputs": [],
   "source": [
    "x_opt, num_iter = descenso_ciclico(x_0, A, b)"
   ]
  },
  {
   "cell_type": "markdown",
   "metadata": {},
   "source": [
    "Ej. 3"
   ]
  },
  {
   "cell_type": "code",
   "execution_count": null,
   "metadata": {},
   "outputs": [],
   "source": []
  }
 ],
 "metadata": {
  "kernelspec": {
   "display_name": "Python 3",
   "language": "python",
   "name": "python3"
  },
  "language_info": {
   "codemirror_mode": {
    "name": "ipython",
    "version": 3
   },
   "file_extension": ".py",
   "mimetype": "text/x-python",
   "name": "python",
   "nbconvert_exporter": "python",
   "pygments_lexer": "ipython3",
   "version": "3.7.4"
  }
 },
 "nbformat": 4,
 "nbformat_minor": 2
}
