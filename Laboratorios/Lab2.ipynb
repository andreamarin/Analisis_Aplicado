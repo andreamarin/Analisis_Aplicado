{
 "cells": [
  {
   "cell_type": "code",
   "execution_count": 1,
   "metadata": {},
   "outputs": [],
   "source": [
    "import numpy as np\n",
    "import scipy.sparse as sparse\n",
    "import scipy.linalg as la"
   ]
  },
  {
   "cell_type": "markdown",
   "metadata": {},
   "source": [
    "## Funciones"
   ]
  },
  {
   "cell_type": "markdown",
   "metadata": {},
   "source": [
    "Auxiliares"
   ]
  },
  {
   "cell_type": "code",
   "execution_count": 54,
   "metadata": {},
   "outputs": [],
   "source": [
    "def hess(f, x):\n",
    "    '''\n",
    "        Input:\n",
    "            f: lambda function\n",
    "            x: function args\n",
    "        Output:\n",
    "            hess_f: hessian of f at x\n",
    "    '''\n",
    "    n = len(x)\n",
    "    hess_f = np.zeros([n, n])\n",
    "    \n",
    "    E = np.diag([pow(np.finfo(float).eps, 1/4) * (abs(a) + 1) for a in x])\n",
    "    \n",
    "    for i in range(n):\n",
    "        for j in range(n):\n",
    "            hess_f[i, j] = (  f(x + E[:, i] + E[:, j]) \n",
    "                            - f(x - E[:, i] + E[:, j]) \n",
    "                            - f(x + E[:, i] - E[:, j]) \n",
    "                            + f(x - E[:, i] - E[:, j]) ) * (0.25 / (E[i, i] * E[j, j]))\n",
    "    \n",
    "    return hess_f\n",
    "    "
   ]
  },
  {
   "cell_type": "code",
   "execution_count": 40,
   "metadata": {},
   "outputs": [],
   "source": [
    "def grad(f, x):\n",
    "    '''\n",
    "        Input:\n",
    "            f: lambda function\n",
    "            x: function args\n",
    "        Output:\n",
    "            grad_f: function gradient at x\n",
    "    '''\n",
    "    n = len(x)\n",
    "    grad_f = np.zeros(n)\n",
    "    \n",
    "    E = np.diag([pow(np.finfo(float).eps, 1/3) * (abs(a) + 1) for a in x])\n",
    "    \n",
    "    for i in range(n):\n",
    "        grad_f[i] = (f(x + E[:, i]) - f(x - E[:, i])) * (0.5 / E[i, i])\n",
    "    \n",
    "    return grad_f"
   ]
  },
  {
   "cell_type": "code",
   "execution_count": 46,
   "metadata": {},
   "outputs": [],
   "source": [
    "def getCoorDir(grad_k):\n",
    "    pos = abs(grad_k).argmax()\n",
    "    \n",
    "    return np.array([-1 if i == pos else 0 for i in range(len(grad_k))])"
   ]
  },
  {
   "cell_type": "code",
   "execution_count": 42,
   "metadata": {},
   "outputs": [],
   "source": [
    "def bisecc(f, x_k, d_k, slope):\n",
    "    alpha_k = 1\n",
    "    f_k = f(x_k)\n",
    "    \n",
    "    while f(x_k + alpha_k*d_k) > f_k + alpha_k*slope:\n",
    "        alpha_k = alpha_k/2\n",
    "        \n",
    "    return alpha_k"
   ]
  },
  {
   "cell_type": "markdown",
   "metadata": {},
   "source": [
    "Descenso por coordenada"
   ]
  },
  {
   "cell_type": "code",
   "execution_count": 43,
   "metadata": {},
   "outputs": [],
   "source": [
    "def desCoor(f, x0, tol, maxiter):\n",
    "    \"\"\"\n",
    "    Descends in one variable per iteration\n",
    "    \n",
    "    params:\n",
    "        f       - function to minimize\n",
    "        x0      - initial point\n",
    "        tol     - tolerance\n",
    "        maxiter - upper bound for iterations\n",
    "        \n",
    "    returns:\n",
    "        xf   - final approximation of x*\n",
    "        iter - # of iterations used\n",
    "    \"\"\"\n",
    "    \n",
    "    i = 0\n",
    "    \n",
    "    c1 = 0.1\n",
    "    x_k = x0\n",
    "    \n",
    "    \n",
    "    while i < maxiter:\n",
    "        grad_k = grad(f, x_k)\n",
    "        \n",
    "        if la.norm(grad_k, ord = np.inf) < tol:\n",
    "            break\n",
    "        \n",
    "        d_k = getCoorDir(grad_k)\n",
    "        \n",
    "        slope = c1 * np.dot(grad_k, d_k)\n",
    "        alpha_k = bisecc(f, x_k, d_k, slope)\n",
    "        \n",
    "        x_k = x_k + alpha_k * d_k\n",
    "        \n",
    "        i += 1\n",
    "        \n",
    "    return x_k, i"
   ]
  },
  {
   "cell_type": "markdown",
   "metadata": {},
   "source": [
    "Descenso por Newton"
   ]
  },
  {
   "cell_type": "code",
   "execution_count": 57,
   "metadata": {},
   "outputs": [],
   "source": [
    "# 15 iteraciones\n",
    "# x0 = [2,3]\n",
    "\n",
    "def desNewton(f, x0, tol, maxiter):\n",
    "    \n",
    "    i = 0\n",
    "    c1 = 0.1\n",
    "    x_k = x0\n",
    "    \n",
    "    while i < maxiter:\n",
    "        grad_k = grad(f, x_k)\n",
    "\n",
    "        if la.norm(grad_k, ord = np.inf) < tol:\n",
    "            break\n",
    "\n",
    "        hess_k = hess(f, x_k)\n",
    "        \n",
    "        d_k = la.lstsq(-grad_k, hess_k)[0]\n",
    "        \n",
    "        slope = c1 * np.dot(grad_k, d_k)\n",
    "        alpha_k = bisecc(f, x_k, d_k, slope)\n",
    "        \n",
    "        x_k = x_k + alpha_k * d_k\n",
    "        \n",
    "        i += 1\n",
    "        \n",
    "    return x_k, i"
   ]
  },
  {
   "cell_type": "markdown",
   "metadata": {},
   "source": [
    "## Experimentos"
   ]
  },
  {
   "cell_type": "markdown",
   "metadata": {},
   "source": [
    "#### Ejercicio 1"
   ]
  },
  {
   "cell_type": "code",
   "execution_count": 44,
   "metadata": {},
   "outputs": [],
   "source": [
    "A = la.pascal(4)\n",
    "b = np.ones(4)\n",
    "f = lambda x : 1/2 * np.dot(x, np.dot(A, x)) + np.dot(b, x) + 1\n",
    "#grad_f = lambda x : np.dot(A, x) + b\n",
    "#hess_f = lambda x : A\n",
    "\n",
    "x0 = np.array([1, 2, 3, 4])\n",
    "tol = 1e-5\n",
    "maxiter = 2000"
   ]
  },
  {
   "cell_type": "code",
   "execution_count": 47,
   "metadata": {},
   "outputs": [
    {
     "data": {
      "text/plain": [
       "(array([ 1.,  0.,  3., -2.]), 2000)"
      ]
     },
     "execution_count": 47,
     "metadata": {},
     "output_type": "execute_result"
    }
   ],
   "source": [
    "desCoor(f, x0, tol, maxiter)"
   ]
  },
  {
   "cell_type": "code",
   "execution_count": null,
   "metadata": {},
   "outputs": [],
   "source": []
  }
 ],
 "metadata": {
  "kernelspec": {
   "display_name": "Python 3",
   "language": "python",
   "name": "python3"
  },
  "language_info": {
   "codemirror_mode": {
    "name": "ipython",
    "version": 3
   },
   "file_extension": ".py",
   "mimetype": "text/x-python",
   "name": "python",
   "nbconvert_exporter": "python",
   "pygments_lexer": "ipython3",
   "version": "3.6.8"
  }
 },
 "nbformat": 4,
 "nbformat_minor": 2
}
